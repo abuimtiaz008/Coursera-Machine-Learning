{
 "cells": [
  {
   "cell_type": "markdown",
   "metadata": {},
   "source": [
    "Many email services today provide spam filters that are able to classify emails\n",
    "into spam and non-spam email with high accuracy. In this part of the exercise,\n",
    "we will use SVMs to build our own spam filter.<br>\n",
    "We will be training a classifier to classify whether a given email, x, is\n",
    "spam (y = 1) or non-spam (y = 0). The dataset included for this exercise is based on a a subset of\n",
    "the SpamAssassin Public Corpus. "
   ]
  },
  {
   "cell_type": "code",
   "execution_count": 16,
   "metadata": {
    "collapsed": true
   },
   "outputs": [],
   "source": [
    "import pandas as pd\n",
    "import numpy as np\n",
    "import scipy.io\n",
    "from pprint import pformat\n",
    "import re\n",
    "import string\n",
    "from nltk.stem.porter import *\n",
    "from sklearn import svm"
   ]
  },
  {
   "cell_type": "markdown",
   "metadata": {},
   "source": [
    "Before starting on a machine learning task, it is usually insightful to take a look at examples from the dataset. Following is a sample email"
   ]
  },
  {
   "cell_type": "code",
   "execution_count": 6,
   "metadata": {
    "collapsed": true
   },
   "outputs": [],
   "source": [
    "with open ('ex6/emailSample1.txt','r') as text:\n",
    "    email = text.read()"
   ]
  },
  {
   "cell_type": "code",
   "execution_count": 8,
   "metadata": {
    "collapsed": false
   },
   "outputs": [
    {
     "data": {
      "text/plain": [
       "\"> Anyone knows how much it costs to host a web portal ?\\n>\\nWell, it depends on how many visitors you're expecting.\\nThis can be anywhere from less than 10 bucks a month to a couple of $100. \\nYou should checkout http://www.rackspace.com/ or perhaps Amazon EC2 \\nif youre running something big..\\n\\nTo unsubscribe yourself from this mailing list, send an email to:\\ngroupname-unsubscribe@egroups.com\\n\\n\""
      ]
     },
     "execution_count": 8,
     "metadata": {},
     "output_type": "execute_result"
    }
   ],
   "source": [
    "email"
   ]
  },
  {
   "cell_type": "markdown",
   "metadata": {},
   "source": [
    "Our vocabulary list was selected by choosing all words which occur at least a 100 times in the spam corpus, resulting in a list of 1899 words. In practice, a vocabulary list with about 10,000 to 50,000 words is often used. we have chosen only the most frequently occuring words as our set of words considered (the vocabulary list)."
   ]
  },
  {
   "cell_type": "code",
   "execution_count": 77,
   "metadata": {
    "collapsed": true
   },
   "outputs": [],
   "source": [
    "voc_list = []\n",
    "voc_file = 'ex6/vocab.txt'\n",
    "for line in file(voc_file):\n",
    "    line = line.strip()\n",
    "    word = str(line.split('\\t')[1])\n",
    "    voc_list.append(word)"
   ]
  },
  {
   "cell_type": "markdown",
   "metadata": {},
   "source": [
    "<h3> Email Preprocessing and Features Extraction"
   ]
  },
  {
   "cell_type": "code",
   "execution_count": 12,
   "metadata": {
    "collapsed": false
   },
   "outputs": [],
   "source": [
    "def preprocess(semail):\n",
    "    # lower case\n",
    "    semail = semail.lower()\n",
    "    # Looks for any expression that starts with < and ends with > and replace\n",
    "    # ana < and > with a space\n",
    "    semail = re.sub('<[^<>]+>',' ',semail)\n",
    "    \n",
    "    # Handle Numbers\n",
    "    # Look for one or more characters between 0-9\n",
    "    semail = re.sub('[0-9]+','number',semail)\n",
    "    # Handle URLS\n",
    "    # Look for strings starting with http:// or https://\n",
    "    semail = re.sub('(http|https)://[^\\s]+','httpaddr',semail)\n",
    "    #handle $ sign\n",
    "    semail = re.sub('\\$+','dollar',semail)\n",
    "    #handle email address\n",
    "    semail = re.sub('[a-zA-Z0-9]\\S*@\\S*[a-zA-Z0-9]','emailaddr',semail)\n",
    "    #get rid of punctuation\n",
    "    semail = semail.translate(None,string.punctuation)\n",
    "    #get rid of everything other alphanumeric characters \n",
    "    semail = re.sub('[^a-zA-Z0-9]',' ',semail)\n",
    "    #Stem \n",
    "    stemmer = PorterStemmer()\n",
    "    words = semail.split(' ')\n",
    "    pemail = []\n",
    "    for word in words:\n",
    "        if word == '': continue\n",
    "        w = str(stemmer.stem(word))\n",
    "        pemail.append(w)\n",
    "    ## transform the email into bag of words available in voc_list\n",
    "    ## features x are vector with 1899 elements where x[i]=1 if i-th word of the voc_list\n",
    "    ## is in the email else x[i]=0\n",
    "    features = np.repeat(0,1899)\n",
    "    word_indices = []\n",
    "    for word in pemail:\n",
    "        if word in voc_list:\n",
    "            index = voc_list.index(word)\n",
    "            word_indices.append(index)\n",
    "            features[index]=1\n",
    "    return features\n"
   ]
  },
  {
   "cell_type": "code",
   "execution_count": 14,
   "metadata": {
    "collapsed": false
   },
   "outputs": [
    {
     "data": {
      "text/plain": [
       "array([0, 0, 0, 0, 0, 0, 0, 0, 0, 0, 0, 0, 0, 0, 0, 0, 0, 0, 0, 0, 0, 0, 0,\n",
       "       0, 0, 0, 0, 0, 0, 0, 0, 0, 0, 0, 0, 0, 0, 0, 0, 0, 0, 0, 0, 0, 0, 0,\n",
       "       0, 0, 0, 0, 0, 0, 0, 0, 0, 0, 0, 0, 0, 0, 0, 0, 0, 0, 0, 0, 0, 0, 0,\n",
       "       0, 1, 0, 0, 0, 0, 0, 0, 0, 0, 0, 0, 0, 0, 0, 0, 1, 0, 0, 1, 0, 0, 0,\n",
       "       0, 0, 0, 0, 0, 0, 0, 0])"
      ]
     },
     "execution_count": 14,
     "metadata": {},
     "output_type": "execute_result"
    }
   ],
   "source": [
    "email_features=preprocess(email)\n",
    "email_features[:100]"
   ]
  },
  {
   "cell_type": "markdown",
   "metadata": {},
   "source": [
    "<h3> Training SVM for Spam Classification"
   ]
  },
  {
   "cell_type": "markdown",
   "metadata": {},
   "source": [
    "spamTrain.mat contains 4000 training examples of spam\n",
    "and non-spam email, while spamTest.mat contains 1000 test examples."
   ]
  },
  {
   "cell_type": "code",
   "execution_count": 24,
   "metadata": {
    "collapsed": false
   },
   "outputs": [
    {
     "name": "stdout",
     "output_type": "stream",
     "text": [
      "(4000L, 1899L)\n",
      "(4000L, 1L)\n",
      "(1000L, 1899L)\n",
      "(1000L, 1L)\n"
     ]
    }
   ],
   "source": [
    "data = scipy.io.loadmat('ex6/spamTrain.mat')\n",
    "x = np.array(data['X'])\n",
    "print x.shape\n",
    "y = np.array(data['y'])\n",
    "print y.shape\n",
    "data_test = scipy.io.loadmat('ex6/spamTest.mat')\n",
    "#print pformat(data_test)\n",
    "x_test = np.array(data_test['Xtest'])\n",
    "print x_test.shape\n",
    "y_test = np.array(data_test['ytest'])\n",
    "print y_test.shape"
   ]
  },
  {
   "cell_type": "markdown",
   "metadata": {},
   "source": [
    "the classifier gets a training accuracy\n",
    "of about 99.8% and a test accuracy of about 98.9%."
   ]
  },
  {
   "cell_type": "code",
   "execution_count": 25,
   "metadata": {
    "collapsed": false
   },
   "outputs": [
    {
     "name": "stdout",
     "output_type": "stream",
     "text": [
      "0.99825\n",
      "0.989\n"
     ]
    }
   ],
   "source": [
    "clf = svm.SVC(C=0.1,kernel='linear')\n",
    "clf.fit(x,y.reshape(len(x)))\n",
    "print clf.score(x,y)\n",
    "print clf.score(x_test,y_test)"
   ]
  },
  {
   "cell_type": "markdown",
   "metadata": {},
   "source": [
    "<h3> Top Predictors for Spam"
   ]
  },
  {
   "cell_type": "code",
   "execution_count": 75,
   "metadata": {
    "collapsed": false
   },
   "outputs": [
    {
     "name": "stdout",
     "output_type": "stream",
     "text": [
      "['ga', 'lo', 'nbsp', 'most', 'pleas', 'price', 'will', 'dollar', 'basenumb', 'visit', 'guarante', 'remov', 'click', 'our', 'snumber']\n"
     ]
    }
   ],
   "source": [
    "coef = clf.coef_.reshape(len(voc_list))\n",
    "voc_list = np.array(voc_list)\n",
    "\n",
    "coef_weight = np.column_stack((voc_list,coef))\n",
    "coef_weight = np.array(sorted(coef_weight,key=lambda x: x[-1]))\n",
    "print list(coef_weight[-15:,0])"
   ]
  },
  {
   "cell_type": "markdown",
   "metadata": {},
   "source": [
    "<h2> Try new emails"
   ]
  },
  {
   "cell_type": "code",
   "execution_count": 91,
   "metadata": {
    "collapsed": false
   },
   "outputs": [
    {
     "name": "stdout",
     "output_type": "stream",
     "text": [
      "[0]\n"
     ]
    }
   ],
   "source": [
    "## Good email, predicted correctly\n",
    "with open ('ex6/emailSample2.txt','r') as text:\n",
    "    email = text.read()\n",
    "email_features=preprocess(email)\n",
    "email_features=email_features.reshape(1,len(email_features))\n",
    "print list(clf.predict(email_features))"
   ]
  },
  {
   "cell_type": "code",
   "execution_count": 94,
   "metadata": {
    "collapsed": false
   },
   "outputs": [
    {
     "name": "stdout",
     "output_type": "stream",
     "text": [
      "[1]\n"
     ]
    }
   ],
   "source": [
    "## spam, predicted correctly\n",
    "with open ('ex6/spamSample2.txt','r') as text:\n",
    "    email = text.read()\n",
    "email_features=preprocess(email)\n",
    "email_features=email_features.reshape(1,len(email_features))\n",
    "print list(clf.predict(email_features))"
   ]
  },
  {
   "cell_type": "code",
   "execution_count": 95,
   "metadata": {
    "collapsed": false
   },
   "outputs": [
    {
     "name": "stdout",
     "output_type": "stream",
     "text": [
      "[1]\n"
     ]
    }
   ],
   "source": [
    "## spam, predicted correctly\n",
    "with open ('ex6/spamSample1.txt','r') as text:\n",
    "    email = text.read()\n",
    "email_features=preprocess(email)\n",
    "email_features=email_features.reshape(1,len(email_features))\n",
    "print list(clf.predict(email_features))"
   ]
  },
  {
   "cell_type": "code",
   "execution_count": 97,
   "metadata": {
    "collapsed": false
   },
   "outputs": [
    {
     "name": "stdout",
     "output_type": "stream",
     "text": [
      "[0]\n"
     ]
    }
   ],
   "source": [
    "## good email, predicted correctly\n",
    "with open ('ex6/emailSample1.txt','r') as text:\n",
    "    email = text.read()\n",
    "email_features=preprocess(email)\n",
    "email_features=email_features.reshape(1,len(email_features))\n",
    "print list(clf.predict(email_features))"
   ]
  }
 ],
 "metadata": {
  "kernelspec": {
   "display_name": "Python 2",
   "language": "python",
   "name": "python2"
  },
  "language_info": {
   "codemirror_mode": {
    "name": "ipython",
    "version": 2
   },
   "file_extension": ".py",
   "mimetype": "text/x-python",
   "name": "python",
   "nbconvert_exporter": "python",
   "pygments_lexer": "ipython2",
   "version": "2.7.13"
  }
 },
 "nbformat": 4,
 "nbformat_minor": 2
}
