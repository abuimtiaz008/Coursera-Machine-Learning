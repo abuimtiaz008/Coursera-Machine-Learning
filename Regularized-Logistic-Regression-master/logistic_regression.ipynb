{
 "cells": [
  {
   "cell_type": "markdown",
   "metadata": {},
   "source": [
    "# Logistic Regression\n",
    "\n",
    "we will build a logistic regression model to\n",
    "predict whether a student gets admitted into a university.\n",
    "As the administrator of a university department and\n",
    "we want to determine each applicant's chance of admission based on their\n",
    "results on two exams. We have historical data from previous applicants\n",
    "that we can use as a training set for logistic regression. For each training\n",
    "example, we have the applicant's scores on two exams and the admissions\n",
    "decision.\n",
    "Our task is to build a classification model that estimates an applicant's\n",
    "probability of admission based the scores from those two exams."
   ]
  },
  {
   "cell_type": "code",
   "execution_count": 6,
   "metadata": {
    "collapsed": true
   },
   "outputs": [],
   "source": [
    "import pandas as pd\n",
    "import numpy as np\n",
    "import scipy.optimize as opt\n",
    "import matplotlib.pyplot as plt\n",
    "%matplotlib inline"
   ]
  },
  {
   "cell_type": "code",
   "execution_count": 80,
   "metadata": {
    "collapsed": false
   },
   "outputs": [
    {
     "data": {
      "text/html": [
       "<div>\n",
       "<table border=\"1\" class=\"dataframe\">\n",
       "  <thead>\n",
       "    <tr style=\"text-align: right;\">\n",
       "      <th></th>\n",
       "      <th>exam1</th>\n",
       "      <th>exam2</th>\n",
       "      <th>decision</th>\n",
       "    </tr>\n",
       "  </thead>\n",
       "  <tbody>\n",
       "    <tr>\n",
       "      <th>0</th>\n",
       "      <td>34.623660</td>\n",
       "      <td>78.024693</td>\n",
       "      <td>0</td>\n",
       "    </tr>\n",
       "    <tr>\n",
       "      <th>1</th>\n",
       "      <td>30.286711</td>\n",
       "      <td>43.894998</td>\n",
       "      <td>0</td>\n",
       "    </tr>\n",
       "    <tr>\n",
       "      <th>2</th>\n",
       "      <td>35.847409</td>\n",
       "      <td>72.902198</td>\n",
       "      <td>0</td>\n",
       "    </tr>\n",
       "    <tr>\n",
       "      <th>3</th>\n",
       "      <td>60.182599</td>\n",
       "      <td>86.308552</td>\n",
       "      <td>1</td>\n",
       "    </tr>\n",
       "    <tr>\n",
       "      <th>4</th>\n",
       "      <td>79.032736</td>\n",
       "      <td>75.344376</td>\n",
       "      <td>1</td>\n",
       "    </tr>\n",
       "  </tbody>\n",
       "</table>\n",
       "</div>"
      ],
      "text/plain": [
       "       exam1      exam2  decision\n",
       "0  34.623660  78.024693         0\n",
       "1  30.286711  43.894998         0\n",
       "2  35.847409  72.902198         0\n",
       "3  60.182599  86.308552         1\n",
       "4  79.032736  75.344376         1"
      ]
     },
     "execution_count": 80,
     "metadata": {},
     "output_type": "execute_result"
    }
   ],
   "source": [
    "exam_scores = pd.read_table('ex2/ex2data1.txt',sep=',',names=['exam1','exam2','decision'])\n",
    "exam_scores.head()"
   ]
  },
  {
   "cell_type": "markdown",
   "metadata": {},
   "source": [
    "We start the exercise by first plotting the data to understand the problem we are working with"
   ]
  },
  {
   "cell_type": "code",
   "execution_count": 81,
   "metadata": {
    "collapsed": true
   },
   "outputs": [],
   "source": [
    "pos=exam_scores[exam_scores['decision']==1]\n",
    "neg=exam_scores[exam_scores['decision']==0]"
   ]
  },
  {
   "cell_type": "code",
   "execution_count": 82,
   "metadata": {
    "collapsed": false
   },
   "outputs": [
    {
     "data": {
      "text/plain": [
       "<matplotlib.legend.Legend at 0xc348ac8>"
      ]
     },
     "execution_count": 82,
     "metadata": {},
     "output_type": "execute_result"
    },
    {
     "data": {
      "image/png": "[encoded data removed]",
      "text/plain": [
       "<matplotlib.figure.Figure at 0xbf904a8>"
      ]
     },
     "metadata": {},
     "output_type": "display_data"
    }
   ],
   "source": [
    "plt.scatter(pos['exam1'],pos['exam2'],c='k',marker='+',label='Admitted')\n",
    "plt.scatter(neg['exam1'],neg['exam2'],c='y',marker='o',label='Not Admitted')\n",
    "plt.xlabel('Exam 1 score')\n",
    "plt.ylabel('Exam 2 score')\n",
    "plt.legend(loc=1)\n"
   ]
  },
  {
   "cell_type": "markdown",
   "metadata": {},
   "source": [
    "<h3>Compute cost and gradient"
   ]
  },
  {
   "cell_type": "code",
   "execution_count": 83,
   "metadata": {
    "collapsed": true
   },
   "outputs": [],
   "source": [
    "def get_numpy_data(data,features,target):\n",
    "    data['intercept']=1\n",
    "    features = ['intercept']+features\n",
    "    features_data = data[features]\n",
    "    features_matrix = features_data.as_matrix()\n",
    "    labels_data = data[target]\n",
    "    labels_matrix = labels_data.as_matrix()\n",
    "    return features_matrix, labels_matrix"
   ]
  },
  {
   "cell_type": "code",
   "execution_count": 84,
   "metadata": {
    "collapsed": false
   },
   "outputs": [],
   "source": [
    "features_matrix,labels_matrix = get_numpy_data(exam_scores,['exam1','exam2'],'decision')\n",
    "#features_matrix"
   ]
  },
  {
   "cell_type": "code",
   "execution_count": 13,
   "metadata": {
    "collapsed": true
   },
   "outputs": [],
   "source": [
    "def sigmoid(z):\n",
    "    z=np.array(z)\n",
    "    return 1./(1+np.exp(-z))     "
   ]
  },
  {
   "cell_type": "code",
   "execution_count": 86,
   "metadata": {
    "collapsed": false
   },
   "outputs": [
    {
     "data": {
      "text/plain": [
       "1.3887943864771144e-11"
      ]
     },
     "execution_count": 86,
     "metadata": {},
     "output_type": "execute_result"
    }
   ],
   "source": [
    "sigmoid(-25)"
   ]
  },
  {
   "cell_type": "code",
   "execution_count": 4,
   "metadata": {
    "collapsed": true
   },
   "outputs": [],
   "source": [
    "def costFunction(coef,features_matrix,labels_matrix,lamda=0):\n",
    "    est = np.dot(coef,np.transpose(features_matrix))\n",
    "    en = np.dot((1-labels_matrix),np.log(1-sigmoid(est)))\n",
    "    ep=np.dot(labels_matrix,np.log(sigmoid(est)))\n",
    "    p = (lamda*np.dot(coef,np.transpose(coef)))/(2*len(features_matrix))\n",
    "    cost = float(-(en+ep))/len(features_matrix) + p\n",
    "    \n",
    "    return cost\n",
    "def computeDerivative(coef,features_matrix,labels_matrix,lamda=0):\n",
    "    est = np.dot(coef,np.transpose(features_matrix))\n",
    "    derivative = []\n",
    "    error = sigmoid(est) - labels_matrix\n",
    "    for j in xrange(len(coef)):\n",
    "        if j==0:d=float(np.dot(error,features_matrix[:,j]))/len(features_matrix)\n",
    "        else:\n",
    "            pd=float(lamda*coef[j])/len(features_matrix)\n",
    "            d = float(np.dot(error,features_matrix[:,j]))/len(features_matrix)+pd\n",
    "        derivative.append(d)\n",
    "    return np.array(derivative)"
   ]
  },
  {
   "cell_type": "code",
   "execution_count": 111,
   "metadata": {
    "collapsed": false
   },
   "outputs": [
    {
     "name": "stdout",
     "output_type": "stream",
     "text": [
      "Cost at initial coef (zeros): 0.693147\n",
      "Expected cost (approx): 0.693\n",
      "Gradient at initial theta (zeros):\n",
      "[-0.1, -12.00921658929115, -11.262842205513593]\n",
      "Expected gradients (approx):\n",
      " -0.1000\n",
      " -12.0092\n",
      " -11.2628\n"
     ]
    }
   ],
   "source": [
    "ini_cost=costFunction(np.zeros(3),features_matrix,labels_matrix)\n",
    "ini_dev = computeDerivative(np.zeros(3),features_matrix,labels_matrix)\n",
    "print 'Cost at initial coef (zeros): %f'%ini_cost\n",
    "print 'Expected cost (approx): 0.693'\n",
    "print 'Gradient at initial theta (zeros):'\n",
    "print '{}'.format(ini_dev)\n",
    "print 'Expected gradients (approx):\\n -0.1000\\n -12.0092\\n -11.2628'"
   ]
  },
  {
   "cell_type": "markdown",
   "metadata": {},
   "source": [
    "<h3> Optimization"
   ]
  },
  {
   "cell_type": "code",
   "execution_count": 52,
   "metadata": {
    "collapsed": false
   },
   "outputs": [],
   "source": [
    "def optimizer(features_matrix,labels_matrix,coef,iters=400):\n",
    "    coef_opt = opt.fmin(costFunction,x0 = coef, args=(features_matrix,labels_matrix),maxiter=iters)\n",
    "    return coef_opt"
   ]
  },
  {
   "cell_type": "code",
   "execution_count": 53,
   "metadata": {
    "collapsed": false
   },
   "outputs": [
    {
     "name": "stdout",
     "output_type": "stream",
     "text": [
      "Optimization terminated successfully.\n",
      "         Current function value: 0.203498\n",
      "         Iterations: 157\n",
      "         Function evaluations: 287\n"
     ]
    },
    {
     "data": {
      "text/plain": [
       "array([-25.16130062,   0.20623142,   0.20147143])"
      ]
     },
     "execution_count": 53,
     "metadata": {},
     "output_type": "execute_result"
    }
   ],
   "source": [
    "coef_opt = optimizer(features_matrix,labels_matrix,np.zeros(3))\n",
    "coef_opt"
   ]
  },
  {
   "cell_type": "markdown",
   "metadata": {},
   "source": [
    "<h3> Plotting Decision Boundary"
   ]
  },
  {
   "cell_type": "code",
   "execution_count": 75,
   "metadata": {
    "collapsed": false
   },
   "outputs": [
    {
     "data": {
      "text/plain": [
       "<matplotlib.legend.Legend at 0xa15d828>"
      ]
     },
     "execution_count": 75,
     "metadata": {},
     "output_type": "execute_result"
    },
    {
     "data": {
      "image/png": "[encoded data removed]",
      "text/plain": [
       "<matplotlib.figure.Figure at 0xb8766a0>"
      ]
     },
     "metadata": {},
     "output_type": "display_data"
    }
   ],
   "source": [
    "x_d =[features_matrix[:,1].min()-5,features_matrix[:,1].max()+5]\n",
    "y_d = (coef_opt[0]+(coef_opt[1]*np.array(x_d)))/float(-coef_opt[2])\n",
    "plt.plot(x_d,y_d)\n",
    "plt.scatter(pos['exam1'],pos['exam2'],c='k',marker='+',label='Admitted')\n",
    "plt.scatter(neg['exam1'],neg['exam2'],c='y',marker='o',label='Not Admitted')\n",
    "plt.xlabel('Exam 1 score')\n",
    "plt.ylabel('Exam 2 score')\n",
    "plt.legend(loc=1)"
   ]
  },
  {
   "cell_type": "markdown",
   "metadata": {},
   "source": [
    "<h3> Predict and accuracy"
   ]
  },
  {
   "cell_type": "markdown",
   "metadata": {},
   "source": [
    "After learning the parameters, we will like to use it to predict the outcomes on unseen data. In this part, we will use the logistic regression model to predict the probability that a student with score 45 on exam 1 and score 85 on exam 2 will be admitted.\n",
    "Furthermore, we will compute the training and test set accuracies of our model."
   ]
  },
  {
   "cell_type": "code",
   "execution_count": 109,
   "metadata": {
    "collapsed": false
   },
   "outputs": [
    {
     "name": "stdout",
     "output_type": "stream",
     "text": [
      "for a student with scores 45 and 85, we predict an admission probability of 0.776292\n",
      "Expected value: 0.775 +/- 0.002\n"
     ]
    }
   ],
   "source": [
    "prob = sigmoid(np.dot([1, 45, 85],coef_opt))\n",
    "print 'for a student with scores 45 and 85, we predict an admission probability of %f'%(prob)\n",
    "print 'Expected value: 0.775 +/- 0.002'"
   ]
  },
  {
   "cell_type": "code",
   "execution_count": 24,
   "metadata": {
    "collapsed": true
   },
   "outputs": [],
   "source": [
    "def predict(coef_opt,features_matrix):\n",
    "    est = np.dot(coef_opt,np.transpose(features_matrix))\n",
    "    prob = sigmoid(est)\n",
    "    predictions =  np.repeat(0,len(features_matrix))\n",
    "    predictions[prob>=0.5]=1\n",
    "    #print predictions\n",
    "    return predictions"
   ]
  },
  {
   "cell_type": "code",
   "execution_count": 107,
   "metadata": {
    "collapsed": false
   },
   "outputs": [
    {
     "name": "stdout",
     "output_type": "stream",
     "text": [
      "Train Accuracy: 0.890000\n",
      "Expected accuracy (approx): 0.89\n"
     ]
    }
   ],
   "source": [
    "pred = np.array(predict(coef_opt,features_matrix))\n",
    "acc = (pred==labels_matrix).sum()\n",
    "score = float(acc)/len(labels_matrix)\n",
    "print 'Train Accuracy: %f'%score\n",
    "print 'Expected accuracy (approx): 0.89'"
   ]
  },
  {
   "cell_type": "markdown",
   "metadata": {},
   "source": [
    "# Regularized logistic regression\n",
    "In this part, we will implement regularized logistic regression to predict whether microchips from a fabrication plant passes quality assurance (QA). During QA, each microchip goes through various tests to ensure\n",
    "it is functioning correctly. \n",
    "Suppose we have the\n",
    "test results for some microchips on two different tests. From these two tests,\n",
    "we would like to determine whether the microchips should be accepted or\n",
    "rejected. To help make the decision, we have a dataset of test results\n",
    "on past microchips, from which we can build a logistic regression model.\n"
   ]
  },
  {
   "cell_type": "code",
   "execution_count": 7,
   "metadata": {
    "collapsed": false
   },
   "outputs": [
    {
     "data": {
      "text/html": [
       "<div>\n",
       "<table border=\"1\" class=\"dataframe\">\n",
       "  <thead>\n",
       "    <tr style=\"text-align: right;\">\n",
       "      <th></th>\n",
       "      <th>test1</th>\n",
       "      <th>test2</th>\n",
       "      <th>decision</th>\n",
       "    </tr>\n",
       "  </thead>\n",
       "  <tbody>\n",
       "    <tr>\n",
       "      <th>0</th>\n",
       "      <td>0.051267</td>\n",
       "      <td>0.69956</td>\n",
       "      <td>1</td>\n",
       "    </tr>\n",
       "    <tr>\n",
       "      <th>1</th>\n",
       "      <td>-0.092742</td>\n",
       "      <td>0.68494</td>\n",
       "      <td>1</td>\n",
       "    </tr>\n",
       "    <tr>\n",
       "      <th>2</th>\n",
       "      <td>-0.213710</td>\n",
       "      <td>0.69225</td>\n",
       "      <td>1</td>\n",
       "    </tr>\n",
       "    <tr>\n",
       "      <th>3</th>\n",
       "      <td>-0.375000</td>\n",
       "      <td>0.50219</td>\n",
       "      <td>1</td>\n",
       "    </tr>\n",
       "    <tr>\n",
       "      <th>4</th>\n",
       "      <td>-0.513250</td>\n",
       "      <td>0.46564</td>\n",
       "      <td>1</td>\n",
       "    </tr>\n",
       "  </tbody>\n",
       "</table>\n",
       "</div>"
      ],
      "text/plain": [
       "      test1    test2  decision\n",
       "0  0.051267  0.69956         1\n",
       "1 -0.092742  0.68494         1\n",
       "2 -0.213710  0.69225         1\n",
       "3 -0.375000  0.50219         1\n",
       "4 -0.513250  0.46564         1"
      ]
     },
     "execution_count": 7,
     "metadata": {},
     "output_type": "execute_result"
    }
   ],
   "source": [
    "ic_test = pd.read_table('ex2/ex2data2.txt',sep=',',names=['test1','test2','decision'])\n",
    "ic_test.head()"
   ]
  },
  {
   "cell_type": "code",
   "execution_count": 8,
   "metadata": {
    "collapsed": true
   },
   "outputs": [],
   "source": [
    "pos_test=ic_test[ic_test['decision']==1]\n",
    "neg_test=ic_test[ic_test['decision']==0]"
   ]
  },
  {
   "cell_type": "code",
   "execution_count": 6,
   "metadata": {
    "collapsed": false
   },
   "outputs": [
    {
     "data": {
      "text/plain": [
       "<matplotlib.legend.Legend at 0xaf83908>"
      ]
     },
     "execution_count": 6,
     "metadata": {},
     "output_type": "execute_result"
    },
    {
     "data": {
      "image/png": "[encoded data removed]",
      "text/plain": [
       "<matplotlib.figure.Figure at 0xadcee10>"
      ]
     },
     "metadata": {},
     "output_type": "display_data"
    }
   ],
   "source": [
    "plt.scatter(pos_test['test1'],pos_test['test2'],c='k',marker='+',label='y=1')\n",
    "plt.scatter(neg_test['test1'],neg_test['test2'],c='y',marker='o',label='y=0')\n",
    "plt.xlabel('IC Test 1')\n",
    "plt.ylabel('IC Test 2')\n",
    "plt.legend(loc=1)"
   ]
  },
  {
   "cell_type": "code",
   "execution_count": 9,
   "metadata": {
    "collapsed": true
   },
   "outputs": [],
   "source": [
    "labels_matrix_reg = ic_test['decision'].as_matrix()\n",
    "features_matrix_reg = ic_test[['test1','test2']].as_matrix()"
   ]
  },
  {
   "cell_type": "markdown",
   "metadata": {},
   "source": [
    "# Feature Transformation\n",
    "In this dataset data points are notlinearly separable. However, we would still like to use logistic regression to classify the data points.<br>\n",
    "To do so, we introduce more features to use -- in particular, we add polynomial features to our data matrix\n"
   ]
  },
  {
   "cell_type": "code",
   "execution_count": 10,
   "metadata": {
    "collapsed": false
   },
   "outputs": [],
   "source": [
    "def mapFeature(X1,X2,degree=6):\n",
    "    o=np.ones(len(X1))\n",
    "    \n",
    "    for i in range(1,degree+1):    \n",
    "        for j in range(0,i+1):\n",
    "            f1 = np.power(X1,i-j)\n",
    "            f2 = np.power(X2,j)            \n",
    "            f = np.multiply(f1,f2)          \n",
    "            o=np.c_[o,f]\n",
    "    return o"
   ]
  },
  {
   "cell_type": "code",
   "execution_count": 11,
   "metadata": {
    "collapsed": false
   },
   "outputs": [
    {
     "name": "stdout",
     "output_type": "stream",
     "text": [
      "(118L, 28L)\n",
      "(118L, 2L)\n"
     ]
    }
   ],
   "source": [
    "features_extend = mapFeature(features_matrix_reg[:,0],features_matrix_reg[:,1])\n",
    "print features_extend.shape\n",
    "print features_matrix_reg.shape\n",
    "#features_extend"
   ]
  },
  {
   "cell_type": "markdown",
   "metadata": {},
   "source": [
    "<h3>Compute and display initial cost and gradient for regularized logistic regression"
   ]
  },
  {
   "cell_type": "code",
   "execution_count": 18,
   "metadata": {
    "collapsed": false
   },
   "outputs": [
    {
     "name": "stdout",
     "output_type": "stream",
     "text": [
      "Cost at initial theta (zeros): 0.693147\n",
      "Expected cost (approx): 0.693\n",
      "Gradient at initial theta (zeros) - first five values only:\n",
      "[  8.47457627e-03   1.87880932e-02   7.77711864e-05   5.03446395e-02\n",
      "   1.15013308e-02]\n",
      "Expected gradients (approx) - first five values only:\n",
      "0.0085 0.0188 0.0001 0.0503 0.0115\n"
     ]
    }
   ],
   "source": [
    "p = 1\n",
    "ini_cost=costFunction(np.zeros(28),features_extend,labels_matrix_reg,p)\n",
    "ini_dev=computeDerivative(np.zeros(28),features_extend,labels_matrix_reg,p)\n",
    "print 'Cost at initial theta (zeros): %f' %ini_cost\n",
    "print 'Expected cost (approx): 0.693'\n",
    "print 'Gradient at initial theta (zeros) - first five values only:'\n",
    "print '{}'.format(ini_dev[:5])\n",
    "print 'Expected gradients (approx) - first five values only:'\n",
    "print '0.0085 0.0188 0.0001 0.0503 0.0115'"
   ]
  },
  {
   "cell_type": "code",
   "execution_count": 19,
   "metadata": {
    "collapsed": false
   },
   "outputs": [
    {
     "name": "stdout",
     "output_type": "stream",
     "text": [
      "Cost at test theta (with lamda=10): 3.206882\n",
      "Expected cost (approx): 3.16\n",
      "Gradient at test theta (zeros) - first five values only:\n",
      "[ 0.34604507  0.16135192  0.19479576  0.22686278  0.09218568]\n",
      "Expected gradients (approx) - first five values only:\n",
      " 0.3460 0.1614 0.1948 0.2269 0.0922\n"
     ]
    }
   ],
   "source": [
    "p = 10\n",
    "ini_cost=costFunction(np.ones(28),features_extend,labels_matrix_reg,p)\n",
    "ini_dev=computeDerivative(np.ones(28),features_extend,labels_matrix_reg,p)\n",
    "print 'Cost at test theta (with lamda=10): %f' %ini_cost\n",
    "print 'Expected cost (approx): 3.16'\n",
    "print 'Gradient at test theta (zeros) - first five values only:'\n",
    "print '{}'.format(ini_dev[:5])\n",
    "print 'Expected gradients (approx) - first five values only:'\n",
    "print ' 0.3460 0.1614 0.1948 0.2269 0.0922'"
   ]
  },
  {
   "cell_type": "markdown",
   "metadata": {},
   "source": [
    "<h3>Optimization"
   ]
  },
  {
   "cell_type": "code",
   "execution_count": 88,
   "metadata": {
    "collapsed": true
   },
   "outputs": [],
   "source": [
    "def optimizer_reg(features_matrix,labels_matrix,coef,lamda,iters=400):\n",
    "    coef_opt = opt.fmin_bfgs(costFunction,x0 = coef, args=(features_matrix,labels_matrix,lamda),maxiter=iters)\n",
    "    return coef_opt"
   ]
  },
  {
   "cell_type": "code",
   "execution_count": 89,
   "metadata": {
    "collapsed": false
   },
   "outputs": [
    {
     "name": "stdout",
     "output_type": "stream",
     "text": [
      "Optimization terminated successfully.\n",
      "         Current function value: 0.535160\n",
      "         Iterations: 46\n",
      "         Function evaluations: 1410\n",
      "         Gradient evaluations: 47\n"
     ]
    },
    {
     "data": {
      "text/plain": [
       "array([ 1.14216809,  0.60159647,  1.16719559, -1.87133889, -0.91585539,\n",
       "       -1.27009734,  0.12635786, -0.36845917, -0.34493788, -0.17359455,\n",
       "       -1.4238617 , -0.0489703 , -0.60654126, -0.26932598, -1.16298495,\n",
       "       -0.2435413 , -0.20689091, -0.0433885 , -0.28027268, -0.28676085,\n",
       "       -0.46905379, -1.03650762,  0.02900068, -0.29266107,  0.01716401,\n",
       "       -0.32900567, -0.13798779, -0.93193432])"
      ]
     },
     "execution_count": 89,
     "metadata": {},
     "output_type": "execute_result"
    }
   ],
   "source": [
    "p=1\n",
    "coef_opt = optimizer_reg(features_extend,labels_matrix_reg,np.zeros(28),p)\n",
    "coef_opt"
   ]
  },
  {
   "cell_type": "markdown",
   "metadata": {},
   "source": [
    "<h3>accessing model performance"
   ]
  },
  {
   "cell_type": "code",
   "execution_count": 91,
   "metadata": {
    "collapsed": false
   },
   "outputs": [
    {
     "name": "stdout",
     "output_type": "stream",
     "text": [
      "Train Accuracy: 0.813559\n",
      "Expected accuracy (approx): 0.83\n"
     ]
    }
   ],
   "source": [
    "pred = np.array(predict(coef_opt,features_extend))\n",
    "acc = (pred==labels_matrix_reg).sum()\n",
    "score = float(acc)/len(labels_matrix_reg)\n",
    "print 'Train Accuracy: %f'%score\n",
    "print 'Expected accuracy (approx): 0.83'"
   ]
  },
  {
   "cell_type": "code",
   "execution_count": 62,
   "metadata": {
    "collapsed": false
   },
   "outputs": [],
   "source": [
    "xx = np.arange(-1,1.5,0.005)\n",
    "yy = np.arange(-1,1.5,0.005)\n",
    "xx, yy = np.meshgrid(xx,yy)\n",
    "zz  = np.dot(mapFeature(xx.ravel(),yy.ravel()),coef_opt)\n",
    "zz = zz.reshape(xx.shape)"
   ]
  },
  {
   "cell_type": "code",
   "execution_count": 90,
   "metadata": {
    "collapsed": false
   },
   "outputs": [
    {
     "data": {
      "text/plain": [
       "<matplotlib.collections.PathCollection at 0xe739cf8>"
      ]
     },
     "execution_count": 90,
     "metadata": {},
     "output_type": "execute_result"
    },
    {
     "data": {
      "image/png": "[encoded data removed]",
      "text/plain": [
       "<matplotlib.figure.Figure at 0xc441cc0>"
      ]
     },
     "metadata": {},
     "output_type": "display_data"
    }
   ],
   "source": [
    "pylab.rcParams['figure.figsize'] = (8, 6)\n",
    "plt.contour(xx,yy,zz,levels=[0])\n",
    "plt.scatter(pos_test['test1'],pos_test['test2'],c='k',marker='+',label='y=1')\n",
    "plt.scatter(neg_test['test1'],neg_test['test2'],c='y',marker='o',label='y=0')"
   ]
  },
  {
   "cell_type": "code",
   "execution_count": 29,
   "metadata": {
    "collapsed": false
   },
   "outputs": [],
   "source": [
    "def plotdata(data):\n",
    "    pos_test=data[data['decision']==1]\n",
    "    neg_test=data[data['decision']==0]\n",
    "    plt.scatter(pos_test['test1'],pos_test['test2'],c='k',marker='+',label='y=1')\n",
    "    plt.scatter(neg_test['test1'],neg_test['test2'],c='y',marker='o',label='y=0')\n",
    "    plt.xlabel('IC Test 1')\n",
    "    plt.ylabel('IC Test 2')\n",
    "    plt.legend(loc=1)"
   ]
  },
  {
   "cell_type": "code",
   "execution_count": 31,
   "metadata": {
    "collapsed": false
   },
   "outputs": [],
   "source": [
    "def plotdecisionboundry(coef_decision):\n",
    "    xx = np.arange(-1,1.5,0.005)\n",
    "    yy = np.arange(-1,1.5,0.005)\n",
    "    xx, yy = np.meshgrid(xx,yy)\n",
    "    zz  = np.dot(mapFeature(xx.ravel(),yy.ravel()),coef_decision)\n",
    "    zz = zz.reshape(xx.shape)\n",
    "    plt.contour(xx,yy,zz,levels=[0])\n",
    "    "
   ]
  },
  {
   "cell_type": "code",
   "execution_count": 92,
   "metadata": {
    "collapsed": false
   },
   "outputs": [
    {
     "name": "stdout",
     "output_type": "stream",
     "text": [
      "Populating the interactive namespace from numpy and matplotlib\n"
     ]
    }
   ],
   "source": [
    "%pylab inline\n",
    "pylab.rcParams['figure.figsize'] = (18, 8)"
   ]
  },
  {
   "cell_type": "code",
   "execution_count": 93,
   "metadata": {
    "collapsed": false
   },
   "outputs": [
    {
     "name": "stdout",
     "output_type": "stream",
     "text": [
      "Warning: Maximum number of iterations has been exceeded.\n",
      "         Current function value: 0.263502\n",
      "         Iterations: 400\n",
      "         Function evaluations: 12030\n",
      "         Gradient evaluations: 401\n",
      "Optimization terminated successfully.\n",
      "         Current function value: 0.535160\n",
      "         Iterations: 46\n",
      "         Function evaluations: 1410\n",
      "         Gradient evaluations: 47\n",
      "Optimization terminated successfully.\n",
      "         Current function value: 0.651183\n",
      "         Iterations: 19\n",
      "         Function evaluations: 600\n",
      "         Gradient evaluations: 20\n",
      "Optimization terminated successfully.\n",
      "         Current function value: 0.686527\n",
      "         Iterations: 4\n",
      "         Function evaluations: 150\n",
      "         Gradient evaluations: 5\n"
     ]
    },
    {
     "data": {
      "image/png": "[encoded data removed]",
      "text/plain": [
       "<matplotlib.figure.Figure at 0x12598b00>"
      ]
     },
     "metadata": {},
     "output_type": "display_data"
    }
   ],
   "source": [
    "p=0\n",
    "coef_opt = optimizer_reg(features_extend,labels_matrix_reg,np.zeros(28),p)\n",
    "plt.subplot(2,2,1)\n",
    "plotdata(ic_test)\n",
    "plotdecisionboundry(coef_opt)\n",
    "p=1\n",
    "coef_opt = optimizer_reg(features_extend,labels_matrix_reg,np.zeros(28),p)\n",
    "plt.subplot(2,2,2)\n",
    "plotdata(ic_test)\n",
    "plotdecisionboundry(coef_opt)\n",
    "p=10\n",
    "coef_opt = optimizer_reg(features_extend,labels_matrix_reg,np.zeros(28),p)\n",
    "plt.subplot(2,2,3)\n",
    "plotdata(ic_test)\n",
    "plotdecisionboundry(coef_opt)\n",
    "p=100\n",
    "coef_opt = optimizer_reg(features_extend,labels_matrix_reg,np.zeros(28),p)\n",
    "plt.subplot(2,2,4)\n",
    "plotdata(ic_test)\n",
    "plotdecisionboundry(coef_opt)"
   ]
  }
 ],
 "metadata": {
  "kernelspec": {
   "display_name": "Python 2",
   "language": "python",
   "name": "python2"
  },
  "language_info": {
   "codemirror_mode": {
    "name": "ipython",
    "version": 2
   },
   "file_extension": ".py",
   "mimetype": "text/x-python",
   "name": "python",
   "nbconvert_exporter": "python",
   "pygments_lexer": "ipython2",
   "version": "2.7.13"
  }
 },
 "nbformat": 4,
 "nbformat_minor": 2
}
